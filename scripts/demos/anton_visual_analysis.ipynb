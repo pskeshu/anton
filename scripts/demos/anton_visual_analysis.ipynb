{
 "cells": [
  {
   "cell_type": "markdown",
   "metadata": {},
   "source": [
    "# 🔬 Anton Visual Microscopy Analysis\n",
    "\n",
    "Interactive notebook for real-time microscopy analysis with live VLM insights and CMPO annotations.\n",
    "\n",
    "**Features:**\n",
    "- 🖼️ Side-by-side image display and analysis\n",
    "- 🧠 Live VLM analysis streaming\n",
    "- 🧬 Color-coded CMPO phenotype annotations\n",
    "- ⚡ Real-time pipeline progress\n",
    "- 🎛️ Interactive parameter controls"
   ]
  },
  {
   "cell_type": "code",
   "execution_count": 1,
   "metadata": {},
   "outputs": [
    {
     "name": "stdout",
     "output_type": "stream",
     "text": [
      "✅ Anton Visual Analysis - Libraries loaded successfully!\n"
     ]
    }
   ],
   "source": [
    "# Import required libraries\n",
    "import os\n",
    "import sys\n",
    "import numpy as np\n",
    "import matplotlib.pyplot as plt\n",
    "import matplotlib.patches as patches\n",
    "from matplotlib.colors import ListedColormap\n",
    "from PIL import Image\n",
    "import ipywidgets as widgets\n",
    "from IPython.display import display, HTML, clear_output, Markdown\n",
    "import asyncio\n",
    "from pathlib import Path\n",
    "import random\n",
    "from datetime import datetime\n",
    "\n",
    "# Add Anton to path\n",
    "sys.path.append(str(Path().absolute()))\n",
    "from anton.core.pipeline import AnalysisPipeline\n",
    "from anton.utils.image_io import ImageLoader\n",
    "from anton.cmpo.mapping import map_to_cmpo\n",
    "from anton.cmpo.ontology import CMPOOntology\n",
    "\n",
    "print(\"✅ Anton Visual Analysis - Libraries loaded successfully!\")"
   ]
  },
  {
   "cell_type": "markdown",
   "metadata": {},
   "source": [
    "## 🎛️ Configuration & Setup"
   ]
  },
  {
   "cell_type": "code",
   "execution_count": 2,
   "metadata": {},
   "outputs": [
    {
     "name": "stdout",
     "output_type": "stream",
     "text": [
      "✅ Google API Key found\n",
      "✅ BBBC013 dataset found (192 images)\n",
      "\n",
      "🚀 Using VLM Provider: GEMINI\n"
     ]
    }
   ],
   "source": [
    "# Check API keys and setup\n",
    "def check_setup():\n",
    "    \"\"\"Check if Anton is properly configured.\"\"\"\n",
    "    status = []\n",
    "    \n",
    "    # Check API keys\n",
    "    if os.getenv('GOOGLE_API_KEY'):\n",
    "        status.append(\"✅ Google API Key found\")\n",
    "        vlm_provider = \"gemini\"\n",
    "    elif os.getenv('ANTHROPIC_API_KEY'):\n",
    "        status.append(\"✅ Anthropic API Key found\")\n",
    "        vlm_provider = \"claude\"\n",
    "    else:\n",
    "        status.append(\"⚠️ No API key found - using mock responses\")\n",
    "        vlm_provider = \"mock\"\n",
    "    \n",
    "    # Check BBBC013 dataset\n",
    "    bbbc013_path = Path(\"data/bbbc013/BBBC013_v1_images_bmp\")\n",
    "    if bbbc013_path.exists():\n",
    "        image_count = len(list(bbbc013_path.glob(\"*.BMP\")))\n",
    "        status.append(f\"✅ BBBC013 dataset found ({image_count} images)\")\n",
    "    else:\n",
    "        status.append(\"❌ BBBC013 dataset not found\")\n",
    "    \n",
    "    return status, vlm_provider\n",
    "\n",
    "status_list, provider = check_setup()\n",
    "for status in status_list:\n",
    "    print(status)\n",
    "\n",
    "print(f\"\\n🚀 Using VLM Provider: {provider.upper()}\")"
   ]
  },
  {
   "cell_type": "markdown",
   "metadata": {},
   "source": [
    "## 🖼️ Interactive Image Selector"
   ]
  },
  {
   "cell_type": "code",
   "execution_count": 3,
   "metadata": {},
   "outputs": [
    {
     "name": "stdout",
     "output_type": "stream",
     "text": [
      "📊 Found 96 FKHR-GFP channel images\n"
     ]
    },
    {
     "data": {
      "application/vnd.jupyter.widget-view+json": {
       "model_id": "5acc3519cd9d4507b6c56eb21f5439b2",
       "version_major": 2,
       "version_minor": 0
      },
      "text/plain": [
       "HBox(children=(Dropdown(description='Select Image:', index=51, options=('Channel1-01-A-01.BMP', 'Channel1-02-A…"
      ]
     },
     "metadata": {},
     "output_type": "display_data"
    },
    {
     "data": {
      "application/vnd.jupyter.widget-view+json": {
       "model_id": "1c3bea68972e4221aa7c0d68d5a6ce58",
       "version_major": 2,
       "version_minor": 0
      },
      "text/plain": [
       "IntProgress(value=0, bar_style='info', description='Pipeline:', max=4)"
      ]
     },
     "metadata": {},
     "output_type": "display_data"
    }
   ],
   "source": [
    "# Load available images\n",
    "def load_available_images():\n",
    "    \"\"\"Load list of available BBBC013 images.\"\"\"\n",
    "    dataset_path = Path(\"data/bbbc013/BBBC013_v1_images_bmp\")\n",
    "    if not dataset_path.exists():\n",
    "        return []\n",
    "    \n",
    "    # Get Channel 1 (FKHR-GFP) images only\n",
    "    images = list(dataset_path.glob(\"Channel1-*.BMP\"))\n",
    "    return sorted([img.name for img in images])\n",
    "\n",
    "available_images = load_available_images()\n",
    "print(f\"📊 Found {len(available_images)} FKHR-GFP channel images\")\n",
    "\n",
    "# Create image selector widget\n",
    "if available_images:\n",
    "    image_selector = widgets.Dropdown(\n",
    "        options=available_images,\n",
    "        value=random.choice(available_images),\n",
    "        description='Select Image:',\n",
    "        style={'description_width': 'initial'}\n",
    "    )\n",
    "    \n",
    "    # Analysis controls\n",
    "    analyze_btn = widgets.Button(\n",
    "        description=\"🔬 Analyze Image\",\n",
    "        button_style=\"success\",\n",
    "        layout=widgets.Layout(width='200px')\n",
    "    )\n",
    "    \n",
    "    progress_bar = widgets.IntProgress(\n",
    "        value=0,\n",
    "        min=0,\n",
    "        max=4,\n",
    "        description='Pipeline:',\n",
    "        bar_style='info'\n",
    "    )\n",
    "    \n",
    "    display(widgets.HBox([image_selector, analyze_btn]))\n",
    "    display(progress_bar)\n",
    "else:\n",
    "    print(\"❌ No BBBC013 images found. Please run the BBBC013 demo first to download the dataset.\")"
   ]
  },
  {
   "cell_type": "markdown",
   "metadata": {},
   "source": [
    "## 🎨 Visualization Setup"
   ]
  },
  {
   "cell_type": "code",
   "execution_count": 4,
   "metadata": {},
   "outputs": [
    {
     "name": "stdout",
     "output_type": "stream",
     "text": [
      "🎨 Visualization setup complete!\n"
     ]
    }
   ],
   "source": [
    "# CMPO color scheme\n",
    "CMPO_COLORS = {\n",
    "    'nuclear': '#FF6B6B',      # Red for nuclear phenotypes\n",
    "    'cytoplasm': '#4ECDC4',    # Teal for cytoplasmic phenotypes\n",
    "    'localization': '#45B7D1', # Blue for localization phenotypes\n",
    "    'morphology': '#96CEB4',   # Green for morphology phenotypes\n",
    "    'high_conf': '#2ECC71',    # Bright green for high confidence\n",
    "    'med_conf': '#F39C12',     # Orange for medium confidence\n",
    "    'low_conf': '#E74C3C'      # Red for low confidence\n",
    "}\n",
    "\n",
    "def get_cmpo_color(term_name, confidence):\n",
    "    \"\"\"Get color for CMPO term based on content and confidence.\"\"\"\n",
    "    # Color by confidence first\n",
    "    if confidence >= 4.5:\n",
    "        return CMPO_COLORS['high_conf']\n",
    "    elif confidence >= 3.5:\n",
    "        return CMPO_COLORS['med_conf']\n",
    "    else:\n",
    "        return CMPO_COLORS['low_conf']\n",
    "\n",
    "def create_visualization_layout():\n",
    "    \"\"\"Create the main visualization layout.\"\"\"\n",
    "    fig, (ax1, ax2) = plt.subplots(1, 2, figsize=(16, 8))\n",
    "    \n",
    "    # Left: Image display\n",
    "    ax1.set_title(\"🔬 Microscopy Image\", fontsize=14, fontweight='bold')\n",
    "    ax1.axis('off')\n",
    "    \n",
    "    # Right: Analysis space (will be updated with text)\n",
    "    ax2.set_title(\"🧠 VLM Analysis\", fontsize=14, fontweight='bold')\n",
    "    ax2.axis('off')\n",
    "    \n",
    "    plt.tight_layout()\n",
    "    return fig, ax1, ax2\n",
    "\n",
    "print(\"🎨 Visualization setup complete!\")"
   ]
  },
  {
   "cell_type": "markdown",
   "metadata": {},
   "source": [
    "## 🧠 Live Analysis Engine"
   ]
  },
  {
   "cell_type": "code",
   "execution_count": 5,
   "metadata": {},
   "outputs": [
    {
     "name": "stdout",
     "output_type": "stream",
     "text": [
      "🎭 Live analysis display ready!\n"
     ]
    }
   ],
   "source": [
    "class LiveAnalysisDisplay:\n",
    "    \"\"\"Real-time analysis display with image and text updates.\"\"\"\n",
    "    \n",
    "    def __init__(self):\n",
    "        self.analysis_output = widgets.Output()\n",
    "        self.image_output = widgets.Output()\n",
    "        self.cmpo_output = widgets.Output()\n",
    "        self.current_results = None\n",
    "        \n",
    "    def display_layout(self):\n",
    "        \"\"\"Display the analysis layout.\"\"\"\n",
    "        # Create tabs for different views\n",
    "        tab = widgets.Tab(children=[self.analysis_output, self.cmpo_output])\n",
    "        tab.set_title(0, \"🧠 VLM Analysis\")\n",
    "        tab.set_title(1, \"🧬 CMPO Phenotypes\")\n",
    "        \n",
    "        # Main layout: Image on left, analysis on right\n",
    "        main_layout = widgets.HBox([\n",
    "            self.image_output,\n",
    "            tab\n",
    "        ])\n",
    "        \n",
    "        display(main_layout)\n",
    "    \n",
    "    def update_image(self, image_path):\n",
    "        \"\"\"Update the displayed image.\"\"\"\n",
    "        with self.image_output:\n",
    "            clear_output(wait=True)\n",
    "            \n",
    "            # Load and display image\n",
    "            loader = ImageLoader()\n",
    "            image = loader.load(image_path)\n",
    "            \n",
    "            plt.figure(figsize=(8, 8))\n",
    "            plt.imshow(image, cmap='gray')\n",
    "            plt.title(f\"🔬 {Path(image_path).name}\", fontsize=14, fontweight='bold')\n",
    "            plt.axis('off')\n",
    "            \n",
    "            # Add image info\n",
    "            info_text = f\"Shape: {image.shape} | Type: {image.dtype} | Range: [{image.min():.0f}, {image.max():.0f}]\"\n",
    "            plt.figtext(0.5, 0.02, info_text, ha='center', fontsize=10)\n",
    "            \n",
    "            plt.tight_layout()\n",
    "            plt.show()\n",
    "    \n",
    "    def update_analysis(self, stage_name, content, is_final=False):\n",
    "        \"\"\"Update analysis content in real-time.\"\"\"\n",
    "        with self.analysis_output:\n",
    "            if stage_name == \"start\":\n",
    "                clear_output(wait=True)\n",
    "                print(\"🚀 Starting Anton Analysis Pipeline...\")\n",
    "                print(\"=\" * 50)\n",
    "            else:\n",
    "                print(f\"\\n📋 {stage_name}:\")\n",
    "                print(\"-\" * 30)\n",
    "                \n",
    "                # Truncate very long content for display\n",
    "                if len(content) > 1000:\n",
    "                    display_content = content[:1000] + \"\\n\\n... [Content truncated for display] ...\"\n",
    "                else:\n",
    "                    display_content = content\n",
    "                \n",
    "                print(display_content)\n",
    "                \n",
    "                if is_final:\n",
    "                    print(\"\\n✅ Analysis complete!\")\n",
    "    \n",
    "    def update_cmpo(self, all_stage_results):\n",
    "        \"\"\"Update CMPO annotations display.\"\"\"\n",
    "        with self.cmpo_output:\n",
    "            clear_output(wait=True)\n",
    "            print(\"🧬 CMPO PHENOTYPE ANALYSIS\")\n",
    "            print(\"=\" * 40)\n",
    "            \n",
    "            try:\n",
    "                from anton.cmpo.mapping import map_to_cmpo\n",
    "                from anton.cmpo.ontology import CMPOOntology\n",
    "                \n",
    "                cmpo_mapper = CMPOOntology()\n",
    "                all_cmpo = []\n",
    "                \n",
    "                for stage_key in ['stage_1_global', 'stage_2_objects', 'stage_3_features', 'stage_4_population']:\n",
    "                    if stage_key in all_stage_results and all_stage_results[stage_key]:\n",
    "                        stage_data = all_stage_results[stage_key]\n",
    "                        stage_num = stage_key.split('_')[1]\n",
    "                        \n",
    "                        # Extract text content\n",
    "                        stage_text = \"\"\n",
    "                        if 'description' in stage_data:\n",
    "                            stage_text = stage_data['description']\n",
    "                        elif 'segmentation_guidance' in stage_data:\n",
    "                            stage_text = stage_data['segmentation_guidance']\n",
    "                        elif 'feature_descriptions' in stage_data and stage_data['feature_descriptions']:\n",
    "                            stage_text = stage_data['feature_descriptions'][0]\n",
    "                        elif 'population_summary' in stage_data:\n",
    "                            stage_text = stage_data['population_summary']\n",
    "                        \n",
    "                        if stage_text and len(stage_text) > 50:\n",
    "                            # Clean JSON formatting\n",
    "                            if '```' in stage_text:\n",
    "                                lines = stage_text.split('\\n')\n",
    "                                stage_text = '\\n'.join([line for line in lines if not line.strip().startswith('```')])\n",
    "                            \n",
    "                            cmpo_results = map_to_cmpo(stage_text, cmpo_mapper, context='protein_localization')\n",
    "                            \n",
    "                            if cmpo_results:\n",
    "                                print(f\"\\n📋 STAGE {stage_num} PHENOTYPES:\")\n",
    "                                for i, mapping in enumerate(cmpo_results[:3]):\n",
    "                                    term = mapping.get('term_name', 'Unknown')\n",
    "                                    confidence = mapping.get('confidence', 0)\n",
    "                                    cmpo_id = mapping.get('CMPO_ID', 'Unknown')\n",
    "                                    \n",
    "                                    # Color-code by confidence\n",
    "                                    if confidence >= 4.5:\n",
    "                                        marker = \"🟢\"\n",
    "                                    elif confidence >= 3.5:\n",
    "                                        marker = \"🟡\"\n",
    "                                    else:\n",
    "                                        marker = \"🟠\"\n",
    "                                    \n",
    "                                    print(f\"   {marker} {term}\")\n",
    "                                    print(f\"      Confidence: {confidence:.2f} | ID: {cmpo_id}\")\n",
    "                                \n",
    "                                all_cmpo.extend(cmpo_results)\n",
    "                \n",
    "                # Summary\n",
    "                if all_cmpo:\n",
    "                    print(f\"\\n📊 SUMMARY:\")\n",
    "                    print(f\"   Total CMPO terms identified: {len(all_cmpo)}\")\n",
    "                    print(f\"   Unique terms: {len(set(m.get('CMPO_ID') for m in all_cmpo))}\")\n",
    "                    \n",
    "                    # Top terms across all stages\n",
    "                    top_terms = sorted(all_cmpo, key=lambda x: x.get('confidence', 0), reverse=True)[:5]\n",
    "                    print(f\"\\n🏆 TOP 5 PHENOTYPES:\")\n",
    "                    for i, term in enumerate(top_terms, 1):\n",
    "                        name = term.get('term_name', 'Unknown')\n",
    "                        conf = term.get('confidence', 0)\n",
    "                        print(f\"   {i}. {name} ({conf:.2f})\")\n",
    "                \n",
    "            except Exception as e:\n",
    "                print(f\"❌ CMPO mapping failed: {e}\")\n",
    "\n",
    "# Create the live display instance\n",
    "live_display = LiveAnalysisDisplay()\n",
    "print(\"🎭 Live analysis display ready!\")"
   ]
  },
  {
   "cell_type": "markdown",
   "metadata": {},
   "source": [
    "## 🚀 Main Analysis Interface"
   ]
  },
  {
   "cell_type": "code",
   "execution_count": 6,
   "metadata": {},
   "outputs": [
    {
     "name": "stdout",
     "output_type": "stream",
     "text": [
      "🎮 Interactive analysis ready! Select an image and click 'Analyze Image'\n"
     ]
    }
   ],
   "source": [
    "def run_live_analysis(image_name):\n",
    "    \"\"\"Run Anton analysis with live updates.\"\"\"\n",
    "    \n",
    "    # Setup\n",
    "    image_path = Path(f\"data/bbbc013/BBBC013_v1_images_bmp/{image_name}\")\n",
    "    if not image_path.exists():\n",
    "        print(f\"❌ Image not found: {image_path}\")\n",
    "        return\n",
    "    \n",
    "    # Configure pipeline with BBBC013 context\n",
    "    bbbc013_context = {\n",
    "        \"experiment_type\": \"protein_translocation\",\n",
    "        \"cell_line\": \"U2OS_osteosarcoma\", \n",
    "        \"protein\": \"FKHR-GFP\",\n",
    "        \"drugs\": [\"Wortmannin\", \"LY294002\"],\n",
    "        \"readout\": \"nuclear_vs_cytoplasmic_localization\",\n",
    "        \"channels\": [\"FKHR-GFP\", \"DNA_DRAQ\"]\n",
    "    }\n",
    "    \n",
    "    if provider == \"gemini\":\n",
    "        config = {\"vlm_provider\": \"gemini\", \"channels\": [0], \"biological_context\": bbbc013_context}\n",
    "    elif provider == \"claude\":\n",
    "        config = {\"vlm_provider\": \"claude\", \"channels\": [0], \"biological_context\": bbbc013_context}\n",
    "    else:\n",
    "        config = {\"vlm_provider\": \"mock\", \"channels\": [0], \"biological_context\": bbbc013_context}\n",
    "    \n",
    "    # Update image display\n",
    "    live_display.update_image(image_path)\n",
    "    \n",
    "    # Initialize pipeline\n",
    "    live_display.update_analysis(\"start\", \"\")\n",
    "    progress_bar.value = 0\n",
    "    \n",
    "    try:\n",
    "        pipeline = AnalysisPipeline(config)\n",
    "        \n",
    "        # Run pipeline with live updates\n",
    "        live_display.update_analysis(\"INITIALIZATION\", f\"🔧 Pipeline configured with {provider.upper()} VLM\\n🧬 BBBC013 biological context loaded\\n📁 Analyzing: {image_name}\")\n",
    "        \n",
    "        # Run synchronous pipeline\n",
    "        results = pipeline.run_pipeline_sync(image_path)\n",
    "        \n",
    "        # Update progress and display results stage by stage\n",
    "        stage_names = [\"STAGE 1 (Global Scene)\", \"STAGE 2 (Object Detection)\", \"STAGE 3 (Feature Analysis)\", \"STAGE 4 (Population Insights)\"]\n",
    "        stage_keys = ['stage_1_global', 'stage_2_objects', 'stage_3_features', 'stage_4_population']\n",
    "        \n",
    "        for i, (stage_name, stage_key) in enumerate(zip(stage_names, stage_keys)):\n",
    "            progress_bar.value = i + 1\n",
    "            \n",
    "            if stage_key in results and results[stage_key]:\n",
    "                stage_data = results[stage_key]\n",
    "                \n",
    "                # Extract meaningful content for display\n",
    "                if 'description' in stage_data:\n",
    "                    content = stage_data['description']\n",
    "                elif 'segmentation_guidance' in stage_data:\n",
    "                    content = stage_data['segmentation_guidance']\n",
    "                elif 'population_summary' in stage_data:\n",
    "                    content = stage_data['population_summary']\n",
    "                else:\n",
    "                    content = f\"✅ {stage_name} completed\\nKeys: {list(stage_data.keys())}\"\n",
    "                \n",
    "                live_display.update_analysis(stage_name, content, is_final=(i == 3))\n",
    "            else:\n",
    "                live_display.update_analysis(stage_name, f\"⚠️ No results for {stage_name}\")\n",
    "        \n",
    "        # Update CMPO display\n",
    "        live_display.update_cmpo(results)\n",
    "        live_display.current_results = results\n",
    "        \n",
    "        progress_bar.bar_style = 'success'\n",
    "        print(f\"\\n🎉 Analysis complete for {image_name}!\")\n",
    "        \n",
    "    except Exception as e:\n",
    "        live_display.update_analysis(\"ERROR\", f\"❌ Analysis failed: {str(e)}\")\n",
    "        progress_bar.bar_style = 'danger'\n",
    "        import traceback\n",
    "        traceback.print_exc()\n",
    "\n",
    "# Connect button to analysis function\n",
    "def on_analyze_click(b):\n",
    "    \"\"\"Handle analyze button click.\"\"\"\n",
    "    selected_image = image_selector.value\n",
    "    print(f\"🔬 Analyzing {selected_image}...\")\n",
    "    run_live_analysis(selected_image)\n",
    "\n",
    "if available_images:\n",
    "    analyze_btn.on_click(on_analyze_click)\n",
    "    print(\"🎮 Interactive analysis ready! Select an image and click 'Analyze Image'\")\n",
    "else:\n",
    "    print(\"❌ No images available for analysis\")"
   ]
  },
  {
   "cell_type": "markdown",
   "metadata": {},
   "source": [
    "## 🖼️ Live Analysis Display\n",
    "\n",
    "**Instructions:**\n",
    "1. Select an image from the dropdown above\n",
    "2. Click \"🔬 Analyze Image\" to start the analysis\n",
    "3. Watch the live updates in the panels below\n",
    "4. Switch between \"VLM Analysis\" and \"CMPO Phenotypes\" tabs\n",
    "\n",
    "**The analysis will show:**\n",
    "- 🖼️ **Left Panel**: Original microscopy image with metadata\n",
    "- 🧠 **Analysis Tab**: Real-time VLM analysis through all 4 pipeline stages\n",
    "- 🧬 **CMPO Tab**: Phenotype classifications with confidence scores"
   ]
  },
  {
   "cell_type": "code",
   "execution_count": 8,
   "metadata": {},
   "outputs": [
    {
     "data": {
      "application/vnd.jupyter.widget-view+json": {
       "model_id": "45137001305e43e58247e8e1d1d85e1c",
       "version_major": 2,
       "version_minor": 0
      },
      "text/plain": [
       "HBox(children=(Output(outputs=({'name': 'stderr', 'text': '/tmp/ipykernel_14579/2070438093.py:43: UserWarning:…"
      ]
     },
     "metadata": {},
     "output_type": "display_data"
    }
   ],
   "source": [
    "# Display the live analysis interface\n",
    "if available_images:\n",
    "    live_display.display_layout()\n",
    "else:\n",
    "    print(\"❌ Cannot display analysis interface - no BBBC013 images found\")\n",
    "    print(\"\\nTo get started:\")\n",
    "    print(\"1. Run the BBBC013 demo script to download the dataset\")\n",
    "    print(\"2. Restart this notebook\")"
   ]
  },
  {
   "cell_type": "markdown",
   "metadata": {},
   "source": [
    "## 🎛️ Advanced Controls\n",
    "\n",
    "Additional tools for detailed analysis and customization."
   ]
  },
  {
   "cell_type": "code",
   "execution_count": 9,
   "metadata": {},
   "outputs": [
    {
     "data": {
      "application/vnd.jupyter.widget-view+json": {
       "model_id": "4b0a20ad46354655806f174abf576922",
       "version_major": 2,
       "version_minor": 0
      },
      "text/plain": [
       "HBox(children=(Button(button_style='info', description='💾 Export Results', layout=Layout(width='150px'), style…"
      ]
     },
     "metadata": {},
     "output_type": "display_data"
    },
    {
     "name": "stdout",
     "output_type": "stream",
     "text": [
      "\n",
      "🎛️ Advanced controls:\n",
      "• 💾 Export Results: Save analysis to JSON file\n",
      "• 🎲 Random Image: Pick a random image for analysis\n"
     ]
    }
   ],
   "source": [
    "# Export results functionality\n",
    "def export_analysis_results():\n",
    "    \"\"\"Export current analysis results to file.\"\"\"\n",
    "    if live_display.current_results:\n",
    "        timestamp = datetime.now().strftime(\"%Y%m%d_%H%M%S\")\n",
    "        filename = f\"anton_analysis_{timestamp}.json\"\n",
    "        \n",
    "        import json\n",
    "        with open(filename, 'w') as f:\n",
    "            # Convert any non-serializable objects to strings\n",
    "            serializable_results = {}\n",
    "            for key, value in live_display.current_results.items():\n",
    "                if isinstance(value, dict):\n",
    "                    serializable_results[key] = {k: str(v) for k, v in value.items()}\n",
    "                else:\n",
    "                    serializable_results[key] = str(value)\n",
    "            \n",
    "            json.dump(serializable_results, f, indent=2)\n",
    "        \n",
    "        print(f\"✅ Results exported to {filename}\")\n",
    "    else:\n",
    "        print(\"❌ No analysis results to export. Run an analysis first.\")\n",
    "\n",
    "# Create export button\n",
    "export_btn = widgets.Button(\n",
    "    description=\"💾 Export Results\",\n",
    "    button_style=\"info\",\n",
    "    layout=widgets.Layout(width='150px')\n",
    ")\n",
    "\n",
    "def on_export_click(b):\n",
    "    export_analysis_results()\n",
    "\n",
    "export_btn.on_click(on_export_click)\n",
    "\n",
    "# Random image button\n",
    "random_btn = widgets.Button(\n",
    "    description=\"🎲 Random Image\",\n",
    "    button_style=\"warning\",\n",
    "    layout=widgets.Layout(width='150px')\n",
    ")\n",
    "\n",
    "def on_random_click(b):\n",
    "    if available_images:\n",
    "        image_selector.value = random.choice(available_images)\n",
    "        print(f\"🎲 Selected random image: {image_selector.value}\")\n",
    "\n",
    "random_btn.on_click(on_random_click)\n",
    "\n",
    "# Display advanced controls\n",
    "if available_images:\n",
    "    display(widgets.HBox([export_btn, random_btn]))\n",
    "    \n",
    "    print(\"\\n🎛️ Advanced controls:\")\n",
    "    print(\"• 💾 Export Results: Save analysis to JSON file\")\n",
    "    print(\"• 🎲 Random Image: Pick a random image for analysis\")\n",
    "else:\n",
    "    print(\"Advanced controls will be available once BBBC013 dataset is loaded.\")"
   ]
  },
  {
   "cell_type": "code",
   "execution_count": null,
   "metadata": {},
   "outputs": [],
   "source": []
  }
 ],
 "metadata": {
  "kernelspec": {
   "display_name": "Python 3 (ipykernel)",
   "language": "python",
   "name": "python3"
  },
  "language_info": {
   "codemirror_mode": {
    "name": "ipython",
    "version": 3
   },
   "file_extension": ".py",
   "mimetype": "text/x-python",
   "name": "python",
   "nbconvert_exporter": "python",
   "pygments_lexer": "ipython3",
   "version": "3.13.3"
  }
 },
 "nbformat": 4,
 "nbformat_minor": 4
}
